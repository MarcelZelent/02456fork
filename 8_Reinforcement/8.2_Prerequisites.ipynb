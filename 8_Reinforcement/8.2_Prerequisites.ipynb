{
 "cells": [
  {
   "cell_type": "markdown",
   "metadata": {},
   "source": [
    "# Prerequisites\n",
    "\n",
    "> By Jonas Busk ([jbusk@dtu.dk](mailto:jbusk@dtu.dk))\n",
    "\n",
    "**2019 update:** Changes have been made to the display of environments due to the previous `viewer` being incompatible with newer versions of Gym.\n",
    "\n",
    "**2022 update:** Rendering was disabled, and the notebook now uses the `colabgymrender` package to render a video.\n",
    "\n",
    "**2023 update:** Changed to packages `gymnasium` and `renderlab`, and to `CartPole-v1`.\n",
    "\n",
    "In this lab we will create neural network reinforcement learning agents with [PyTorch](https://pytorch.org/) to navigate various environments from [Gymnasium](https://github.com/Farama-Foundation/Gymnasium) originally developed by [OpenAI](https://openai.com/).\n",
    "\n",
    "Please refer to the [docs](https://gymnasium.farama.org) on how to get started with Gymnasium."
   ]
  },
  {
   "cell_type": "markdown",
   "metadata": {},
   "source": [
    "## Installation\n",
    "\n",
    "Below is a brief guide on how to install Gymnasium. For more details, please refer to the repository on [GitHub](https://gymnasium.farama.org) and the [docs](https://gym.openai.com/docs).\n",
    "\n",
    "You can do a minimal install of the packaged version of Gym directly from PyPI:\n",
    "\n",
    "```\n",
    "pip install gymnasium\n",
    "```\n",
    "\n",
    "If you run in Colab, you can do a quick pip install of Gym in the cell below:"
   ]
  },
  {
   "cell_type": "code",
   "execution_count": null,
   "metadata": {},
   "outputs": [],
   "source": [
    "!pip install gymnasium\n",
    "!pip install renderlab"
   ]
  },
  {
   "cell_type": "markdown",
   "metadata": {},
   "source": [
    "## Running an environment\n",
    "\n",
    "Here is a bare minimum example of running a Gym environment. This creates an instance of the [CartPole-v0](https://gym.openai.com/envs/CartPole-v0) environment and runs until the rollout is done, taking random actions and rendering the environment at each step. With Gym installed, you should be able to see a small animation of the environment below."
   ]
  },
  {
   "cell_type": "code",
   "execution_count": 1,
   "metadata": {},
   "outputs": [
    {
     "name": "stdout",
     "output_type": "stream",
     "text": [
      "Moviepy - Building video temp-{start}.mp4.\n",
      "Moviepy - Writing video temp-{start}.mp4\n",
      "\n"
     ]
    },
    {
     "name": "stderr",
     "output_type": "stream",
     "text": [
      "                                                           \r"
     ]
    },
    {
     "name": "stdout",
     "output_type": "stream",
     "text": [
      "Moviepy - Done !\n",
      "Moviepy - video ready temp-{start}.mp4\n"
     ]
    },
    {
     "data": {
      "text/html": [
       "<video controls  >\n",
       " <source src=\"data:video/mp4;base64,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\" type=\"video/mp4\">\n",
       " Your browser does not support the video tag.\n",
       " </video>"
      ],
      "text/plain": [
       "<IPython.core.display.Video object>"
      ]
     },
     "metadata": {},
     "output_type": "display_data"
    }
   ],
   "source": [
    "import gymnasium as gym\n",
    "import renderlab as rl\n",
    "\n",
    "env = gym.make(\"CartPole-v1\", render_mode = \"rgb_array\") # Create the environment\n",
    "env = rl.RenderFrame(env, \"./output\") # Directory for the recorded video\n",
    "env.reset()\n",
    "\n",
    "# Run environment\n",
    "while True:\n",
    "    action = env.action_space.sample() # Get a random action\n",
    "    _, _, done, _, _ = env.step(action) # Take a step\n",
    "    if done: break # Break if environment is done\n",
    "\n",
    "env.close() # Close environment\n",
    "env.play() # Show the video"
   ]
  },
  {
   "cell_type": "markdown",
   "metadata": {},
   "source": [
    "Hooray! You now have a working `Gym` environment that we can take actions in and render."
   ]
  }
 ],
 "metadata": {
  "kernelspec": {
   "display_name": ".venv",
   "language": "python",
   "name": "python3"
  },
  "language_info": {
   "codemirror_mode": {
    "name": "ipython",
    "version": 3
   },
   "file_extension": ".py",
   "mimetype": "text/x-python",
   "name": "python",
   "nbconvert_exporter": "python",
   "pygments_lexer": "ipython3",
   "version": "3.10.0"
  }
 },
 "nbformat": 4,
 "nbformat_minor": 2
}
